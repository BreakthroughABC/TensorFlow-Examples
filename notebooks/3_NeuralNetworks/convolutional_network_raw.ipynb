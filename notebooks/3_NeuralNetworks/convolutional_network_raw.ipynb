{
 "cells": [
  {
   "cell_type": "markdown",
   "metadata": {
    "collapsed": true
   },
   "source": [
    "# Convolutional Neural Network Example\n",
    "\n",
    "Build a convolutional neural network with TensorFlow.\n",
    "\n",
    "- Author: Aymeric Damien\n",
    "- Project: https://github.com/aymericdamien/TensorFlow-Examples/"
   ]
  },
  {
   "cell_type": "markdown",
   "metadata": {},
   "source": [
    "## CNN Overview\n",
    "\n",
    "![CNN](http://personal.ie.cuhk.edu.hk/~ccloy/project_target_code/images/fig3.png)\n",
    "\n",
    "## MNIST Dataset Overview\n",
    "\n",
    "This example is using MNIST handwritten digits. The dataset contains 60,000 examples for training and 10,000 examples for testing. The digits have been size-normalized and centered in a fixed-size image (28x28 pixels) with values from 0 to 1. For simplicity, each image has been flatten and converted to a 1-D numpy array of 784 features (28*28).\n",
    "\n",
    "![MNIST Dataset](http://neuralnetworksanddeeplearning.com/images/mnist_100_digits.png)\n",
    "\n",
    "More info: http://yann.lecun.com/exdb/mnist/"
   ]
  },
  {
   "cell_type": "code",
   "execution_count": 1,
   "metadata": {
    "collapsed": false
   },
   "outputs": [
    {
     "name": "stdout",
     "output_type": "stream",
     "text": [
      "Successfully downloaded train-images-idx3-ubyte.gz 9912422 bytes.\n",
      "Extracting /tmp/data/train-images-idx3-ubyte.gz\n",
      "Successfully downloaded train-labels-idx1-ubyte.gz 28881 bytes.\n",
      "Extracting /tmp/data/train-labels-idx1-ubyte.gz\n",
      "Successfully downloaded t10k-images-idx3-ubyte.gz 1648877 bytes.\n",
      "Extracting /tmp/data/t10k-images-idx3-ubyte.gz\n",
      "Successfully downloaded t10k-labels-idx1-ubyte.gz 4542 bytes.\n",
      "Extracting /tmp/data/t10k-labels-idx1-ubyte.gz\n"
     ]
    }
   ],
   "source": [
    "from __future__ import division, print_function, absolute_import\n",
    "\n",
    "import tensorflow as tf\n",
    "\n",
    "# Import MNIST data\n",
    "from tensorflow.examples.tutorials.mnist import input_data\n",
    "#注意onehot=true，输出是0000001000\n",
    "#诡异的直接调用tf自带训练集的方式，并不普适，还是要了解怎么预处理出来一个数据集\n",
    "mnist = input_data.read_data_sets(\"/tmp/data/\", one_hot=True)"
   ]
  },
  {
   "cell_type": "code",
   "execution_count": 5,
   "metadata": {
    "collapsed": true
   },
   "outputs": [],
   "source": [
    "# Training Parameters\n",
    "learning_rate = 0.001\n",
    "num_steps = 500\n",
    "batch_size = 128\n",
    "display_step = 10\n",
    "\n",
    "# Network Parameters\n",
    "num_input = 784 # MNIST data input (img shape: 28*28)\n",
    "num_classes = 10 # MNIST total classes (0-9 digits)\n",
    "dropout = 0.75 # Dropout, probability to keep units\n",
    "\n",
    "# tf Graph input\n",
    "#注意X维度的定义，我们已知每个input instance（每张图片）是一个784*1的列向量，有多少图片不知道，所以这里用【None，num_input】\n",
    "X = tf.placeholder(tf.float32, [None, num_input])\n",
    "#输出用Y表示，但Y也同样表示的是N个onehot的10*1的列向量\n",
    "Y = tf.placeholder(tf.float32, [None, num_classes])\n",
    "#网络中的值，都要用placeholder，注意keep_prob用placeholder，而且是个1*1的量\n",
    "keep_prob = tf.placeholder(tf.float32) # dropout (keep probability)"
   ]
  },
  {
   "cell_type": "code",
   "execution_count": 6,
   "metadata": {
    "collapsed": true
   },
   "outputs": [],
   "source": [
    "# Create some wrappers for simplicity\n",
    "#良好的习惯是把conv2d和maxpool这些常用的函数封装起来，不过这样的话怎么用tensorboard？要弄清！！\n",
    "def conv2d(x, W, b, strides=1):\n",
    "    # Conv2D wrapper, with bias and relu activation\n",
    "    #注意conv2d，四个必须的参数，strides是一个列表，长度为4，指定input四个维度上的stride，分别是batch，height，width，channel，\n",
    "    #【1，strides，strides，1】就是每次只看一个图片的一个通道，横纵方向根据传入的strides参数变化，默认是1，就是卷积核挨着一步一步走\n",
    "    #padding两种方式，‘SAME’表示自动zeropadding，‘VALID’表示不padding，注意padding并不保证图片维度和原来一样，只不过是不够了的时候\n",
    "    #在边上补充一点0而已，图片会在maxpooling的时候被2*2的ksize缩小，这里28*28——>14*14——>7*7\n",
    "    x = tf.nn.conv2d(x, W, strides=[1, strides, strides, 1], padding='SAME')\n",
    "    #卷积完还有个bias，b和x的维度相同\n",
    "    x = tf.nn.bias_add(x, b)\n",
    "    #加上bias之后得到preactivation，然后做一个relu的activation非线性化，注意维度是没有变的\n",
    "    return tf.nn.relu(x)\n",
    "\n",
    "\n",
    "def maxpool2d(x, k=2):\n",
    "    # MaxPool2D wrapper\n",
    "    #maxpooling，圈一个k*k的方块，调最大值，来减少局部冗余信息，注意这里也有个strides，一般是跟ksize一致，也就是圈的方块不重叠，这样的话\n",
    "    #自然又涉及到padding的问题，这里用的是SAME\n",
    "    return tf.nn.max_pool(x, ksize=[1, k, k, 1], strides=[1, k, k, 1],\n",
    "                          padding='SAME')\n",
    "\n",
    "\n",
    "# Create model\n",
    "def conv_net(x, weights, biases, dropout):\n",
    "    # MNIST data input is a 1-D vector of 784 features (28*28 pixels)\n",
    "    # Reshape to match picture format [Height x Width x Channel]\n",
    "    # Tensor input become 4-D: [Batch Size, Height, Width, Channel]\n",
    "    #做卷积之前要弄成标准的二维图片形式，-1表示自行推断batchsize，这里是黑白图，channel=1\n",
    "    x = tf.reshape(x, shape=[-1, 28, 28, 1])\n",
    "    \n",
    "    # Convolution Layer\n",
    "    conv1 = conv2d(x, weights['wc1'], biases['bc1'])\n",
    "    # Max Pooling (down-sampling)\n",
    "    conv1 = maxpool2d(conv1, k=2)\n",
    "\n",
    "    # Convolution Layer\n",
    "    conv2 = conv2d(conv1, weights['wc2'], biases['bc2'])\n",
    "    # Max Pooling (down-sampling)\n",
    "    conv2 = maxpool2d(conv2, k=2)\n",
    "\n",
    "    # Fully connected layer\n",
    "    # Reshape conv2 output to fit fully connected layer input\n",
    "    #注意这句话，wd1是个tf.Variable，调用getshape函数得到shape，aslist函数转成list，然后取第一个元素，是全连接层input的维度，7*7*64\n",
    "    #-1表示要保留batch，一行一个图片\n",
    "    fc1 = tf.reshape(conv2, [-1, weights['wd1'].get_shape().as_list()[0]])\n",
    "    #fc1是batchsize*（7*7*64）的，weights是（7*7*64）的，会广播，乘出来还是fc1的形状，包括加bias也是广播\n",
    "    fc1 = tf.add(tf.matmul(fc1, weights['wd1']), biases['bd1'])\n",
    "    fc1 = tf.nn.relu(fc1)\n",
    "    # Apply Dropout\n",
    "    #这里体现了dropout只需要在最后网络算完了，输出层之前，dropout一下全连接层，写法是这样的：\n",
    "    fc1 = tf.nn.dropout(fc1, dropout)\n",
    "\n",
    "    # Output, class prediction\n",
    "    #全连接层activate之后，输出层还要再来个线性的wx+b生成1*10的输出，注意out是batchsize*10的\n",
    "    out = tf.add(tf.matmul(fc1, weights['out']), biases['out'])\n",
    "    return out"
   ]
  },
  {
   "cell_type": "code",
   "execution_count": 7,
   "metadata": {
    "collapsed": true
   },
   "outputs": [],
   "source": [
    "# Store layers weight & bias\n",
    "#用一个字典统一管理w和b，可以借鉴，很清楚\n",
    "weights = {\n",
    "    # 5x5 conv, 1 input, 32 outputs\n",
    "    #注意filter的维度 [filter_height, filter_width, in_channels, out_channels]\n",
    "    #注意w和b是Variable，一开始定义的时候还要用random_normal\n",
    "    'wc1': tf.Variable(tf.random_normal([5, 5, 1, 32])),\n",
    "    # 5x5 conv, 32 inputs, 64 outputs\n",
    "    'wc2': tf.Variable(tf.random_normal([5, 5, 32, 64])),\n",
    "    # fully connected, 7*7*64 inputs, 1024 outputs\n",
    "    'wd1': tf.Variable(tf.random_normal([7*7*64, 1024])),\n",
    "    # 1024 inputs, 10 outputs (class prediction)\n",
    "    'out': tf.Variable(tf.random_normal([1024, num_classes]))\n",
    "}\n",
    "\n",
    "biases = {\n",
    "    'bc1': tf.Variable(tf.random_normal([32])),\n",
    "    'bc2': tf.Variable(tf.random_normal([64])),\n",
    "    'bd1': tf.Variable(tf.random_normal([1024])),\n",
    "    'out': tf.Variable(tf.random_normal([num_classes]))\n",
    "}\n",
    "\n",
    "# Construct model\n",
    "#注意这里生成的是1*10的一堆乱七八糟的数，还没有softmax呢\n",
    "logits = conv_net(X, weights, biases, keep_prob)\n",
    "#prediction只是softmax之后，0.112，0.721等等，还没有argmax，再loss function那里argmax\n",
    "prediction = tf.nn.softmax(logits)\n",
    "\n",
    "# Define loss and optimizer\n",
    "#注意这个softmaxcrossentropywithlogits正如名字说的，接收未normalize的10个数作为输入！！！！！！\n",
    "#labels是那个Y的placeholder，就是数据集里的正确答案，一堆onehot 1*10 vector\n",
    "loss_op = tf.reduce_mean(tf.nn.softmax_cross_entropy_with_logits(\n",
    "    logits=logits, labels=Y))\n",
    "optimizer = tf.train.AdamOptimizer(learning_rate=learning_rate)\n",
    "#注意这里有三步，定义loss，定义optimizer，train=optimizer.minimize(loss)\n",
    "train_op = optimizer.minimize(loss_op)\n",
    "\n",
    "\n",
    "# Evaluate model\n",
    "#argmax 1表示按行，0表示按列,这里每行都是一个图片，所以按行\n",
    "correct_pred = tf.equal(tf.argmax(prediction, 1), tf.argmax(Y, 1))\n",
    "accuracy = tf.reduce_mean(tf.cast(correct_pred, tf.float32))\n",
    "\n",
    "# Initialize the variables (i.e. assign their default value)\n",
    "init = tf.global_variables_initializer()"
   ]
  },
  {
   "cell_type": "code",
   "execution_count": 12,
   "metadata": {
    "collapsed": false
   },
   "outputs": [
    {
     "name": "stdout",
     "output_type": "stream",
     "text": [
      "Step 1, Minibatch Loss= 107670.4609, Training Accuracy= 0.094\n",
      "Step 10, Minibatch Loss= 37669.4297, Training Accuracy= 0.312\n",
      "Step 20, Minibatch Loss= 14097.5498, Training Accuracy= 0.555\n",
      "Step 30, Minibatch Loss= 10744.9844, Training Accuracy= 0.555\n",
      "Step 40, Minibatch Loss= 5663.2852, Training Accuracy= 0.711\n",
      "Step 50, Minibatch Loss= 5769.4585, Training Accuracy= 0.742\n",
      "Step 60, Minibatch Loss= 4217.8574, Training Accuracy= 0.812\n",
      "Step 70, Minibatch Loss= 4569.0835, Training Accuracy= 0.758\n",
      "Step 80, Minibatch Loss= 2117.9468, Training Accuracy= 0.898\n",
      "Step 90, Minibatch Loss= 2355.5264, Training Accuracy= 0.891\n",
      "Step 100, Minibatch Loss= 2790.5195, Training Accuracy= 0.859\n",
      "Step 110, Minibatch Loss= 1342.5957, Training Accuracy= 0.914\n",
      "Step 120, Minibatch Loss= 1118.8083, Training Accuracy= 0.930\n",
      "Step 130, Minibatch Loss= 2471.0046, Training Accuracy= 0.875\n",
      "Step 140, Minibatch Loss= 990.0022, Training Accuracy= 0.945\n",
      "Step 150, Minibatch Loss= 2667.6196, Training Accuracy= 0.875\n",
      "Step 160, Minibatch Loss= 2901.4663, Training Accuracy= 0.867\n",
      "Step 170, Minibatch Loss= 2341.9363, Training Accuracy= 0.875\n",
      "Step 180, Minibatch Loss= 1323.2223, Training Accuracy= 0.945\n",
      "Step 190, Minibatch Loss= 960.8917, Training Accuracy= 0.953\n",
      "Step 200, Minibatch Loss= 1132.6522, Training Accuracy= 0.930\n",
      "Step 210, Minibatch Loss= 1806.0471, Training Accuracy= 0.945\n",
      "Step 220, Minibatch Loss= 1505.8763, Training Accuracy= 0.930\n",
      "Step 230, Minibatch Loss= 323.6514, Training Accuracy= 0.945\n",
      "Step 240, Minibatch Loss= 1486.0155, Training Accuracy= 0.922\n",
      "Step 250, Minibatch Loss= 326.3870, Training Accuracy= 0.977\n",
      "Step 260, Minibatch Loss= 1745.0850, Training Accuracy= 0.906\n",
      "Step 270, Minibatch Loss= 856.4077, Training Accuracy= 0.945\n",
      "Step 280, Minibatch Loss= 1969.3232, Training Accuracy= 0.930\n",
      "Step 290, Minibatch Loss= 351.6908, Training Accuracy= 0.961\n",
      "Step 300, Minibatch Loss= 645.8065, Training Accuracy= 0.945\n",
      "Step 310, Minibatch Loss= 2302.9829, Training Accuracy= 0.898\n",
      "Step 320, Minibatch Loss= 1316.6860, Training Accuracy= 0.906\n",
      "Step 330, Minibatch Loss= 1614.7224, Training Accuracy= 0.891\n",
      "Step 340, Minibatch Loss= 2041.6588, Training Accuracy= 0.898\n",
      "Step 350, Minibatch Loss= 1050.2446, Training Accuracy= 0.930\n",
      "Step 360, Minibatch Loss= 1215.1948, Training Accuracy= 0.914\n",
      "Step 370, Minibatch Loss= 520.0196, Training Accuracy= 0.945\n",
      "Step 380, Minibatch Loss= 882.0728, Training Accuracy= 0.945\n",
      "Step 390, Minibatch Loss= 293.7709, Training Accuracy= 0.977\n",
      "Step 400, Minibatch Loss= 1335.1809, Training Accuracy= 0.914\n",
      "Step 410, Minibatch Loss= 369.5070, Training Accuracy= 0.945\n",
      "Step 420, Minibatch Loss= 685.6965, Training Accuracy= 0.953\n",
      "Step 430, Minibatch Loss= 157.0074, Training Accuracy= 0.969\n",
      "Step 440, Minibatch Loss= 575.4498, Training Accuracy= 0.969\n",
      "Step 450, Minibatch Loss= 1021.1235, Training Accuracy= 0.938\n",
      "Step 460, Minibatch Loss= 1012.2483, Training Accuracy= 0.945\n",
      "Step 470, Minibatch Loss= 470.7778, Training Accuracy= 0.938\n",
      "Step 480, Minibatch Loss= 589.9263, Training Accuracy= 0.938\n",
      "Step 490, Minibatch Loss= 1127.8735, Training Accuracy= 0.930\n",
      "Step 500, Minibatch Loss= 429.8722, Training Accuracy= 0.969\n",
      "Optimization Finished!\n",
      "Testing Accuracy: 0.976563\n"
     ]
    }
   ],
   "source": [
    "# Start training\n",
    "with tf.Session() as sess:\n",
    "\n",
    "    # Run the initializer\n",
    "    sess.run(init)\n",
    "\n",
    "    for step in range(1, num_steps+1):\n",
    "        batch_x, batch_y = mnist.train.next_batch(batch_size)\n",
    "        # Run optimization op (backprop)\n",
    "        #注意对整个网络的引用是在这里引用trainop实现的\n",
    "        sess.run(train_op, feed_dict={X: batch_x, Y: batch_y, keep_prob: dropout})\n",
    "        if step % display_step == 0 or step == 1:\n",
    "            # Calculate batch loss and accuracy\n",
    "            #注意这里keepbrob是1！！！！就是当evaluate的时候要用1，训练才dropout提高健壮性\n",
    "            loss, acc= sess.run([loss_op, accuracy], feed_dict={X: batch_x,\n",
    "                                                                 Y: batch_y,\n",
    "                                                                 keep_prob: 1.0})\n",
    "            print(\"Step \" + str(step) + \", Minibatch Loss= \" + \\\n",
    "                  \"{:.4f}\".format(loss) + \", Training Accuracy= \" + \\\n",
    "                  \"{:.3f}\".format(acc))\n",
    "        \n",
    "    print(\"Optimization Finished!\")\n",
    "\n",
    "    # Calculate accuracy for 256 MNIST test images\n",
    "    print(\"Testing Accuracy:\", \\\n",
    "        sess.run(accuracy, feed_dict={X: mnist.test.images[:256],\n",
    "                                      Y: mnist.test.labels[:256],\n",
    "                                      keep_prob: 1.0}))\n"
   ]
  },
  {
   "cell_type": "code",
   "execution_count": 16,
   "metadata": {
    "collapsed": false
   },
   "outputs": [
    {
     "data": {
      "text/plain": [
       "(128, 10)"
      ]
     },
     "execution_count": 16,
     "metadata": {},
     "output_type": "execute_result"
    }
   ],
   "source": []
  },
  {
   "cell_type": "code",
   "execution_count": null,
   "metadata": {
    "collapsed": true
   },
   "outputs": [],
   "source": []
  }
 ],
 "metadata": {
  "kernelspec": {
   "display_name": "tensorflow",
   "language": "python",
   "name": "tensorflow"
  },
  "language_info": {
   "codemirror_mode": {
    "name": "ipython",
    "version": 3
   },
   "file_extension": ".py",
   "mimetype": "text/x-python",
   "name": "python",
   "nbconvert_exporter": "python",
   "pygments_lexer": "ipython3",
   "version": "3.5.2"
  }
 },
 "nbformat": 4,
 "nbformat_minor": 0
}
